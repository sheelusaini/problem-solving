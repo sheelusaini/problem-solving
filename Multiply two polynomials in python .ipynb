{
 "cells": [
  {
   "cell_type": "code",
   "execution_count": 5,
   "metadata": {},
   "outputs": [
    {
     "name": "stdout",
     "output_type": "stream",
     "text": [
      "First polynomial is \n",
      "5 + 0x^ 1 + 10x^ 2 + 6x^ 3\n",
      "Second polynomial is \n",
      "1 + 2x^ 1 + 4x^ 2\n",
      "Product polynomial is \n",
      "5 + 10x^ 1 + 30x^ 2 + 26x^ 3 + 52x^ 4 + 24x^ 5"
     ]
    }
   ],
   "source": [
    "# A[] represents coefficients of first polynomial\n",
    "# B[] represents coefficients of second polynomial\n",
    "# m and n are sizes of A[] and B[] respectively\n",
    "def multiply(A, B, m, n):\n",
    " \n",
    "    prod = [0] * (m + n - 1);\n",
    "     \n",
    "    # Multiply two polynomials term by term\n",
    "     \n",
    "    # Take ever term of first polynomial\n",
    "    for i in range(m):\n",
    "         \n",
    "        # Multiply the current term of first\n",
    "        # polynomial with every term of\n",
    "        # second polynomial.\n",
    "        for j in range(n):\n",
    "            prod[i + j] += A[i] * B[j];\n",
    " \n",
    "    return prod;\n",
    " \n",
    "# A utility function to print a polynomial\n",
    "def printPoly(poly, n):\n",
    "    for i in range(n):\n",
    "        print(poly[i], end = \"\");\n",
    "        if (i != 0):\n",
    "            print(\"x^\", i, end = \"\");\n",
    "        if (i != n - 1):\n",
    "            print(\" + \", end = \"\");\n",
    " \n",
    "\n",
    " \n",
    "# The following array represents\n",
    "# polynomial 5 + 10x^2 + 6x^3\n",
    "A = [5, 0, 10, 6];\n",
    " \n",
    "# The following array represents\n",
    "# polynomial 1 + 2x + 4x^2\n",
    "B = [1, 2, 4];\n",
    "m = len(A);\n",
    "n = len(B);\n",
    " \n",
    "print(\"First polynomial is \");\n",
    "printPoly(A, m);\n",
    "print(\"\\nSecond polynomial is \");\n",
    "printPoly(B, n);\n",
    "prod = multiply(A, B, m, n);\n",
    " \n",
    "print(\"\\nProduct polynomial is \");\n",
    "printPoly(prod, m+n-1);\n",
    " \n",
    " \n",
    " "
   ]
  },
  {
   "cell_type": "code",
   "execution_count": null,
   "metadata": {},
   "outputs": [],
   "source": []
  },
  {
   "cell_type": "code",
   "execution_count": null,
   "metadata": {},
   "outputs": [],
   "source": []
  },
  {
   "cell_type": "code",
   "execution_count": null,
   "metadata": {},
   "outputs": [],
   "source": []
  }
 ],
 "metadata": {
  "kernelspec": {
   "display_name": "Python 3",
   "language": "python",
   "name": "python3"
  },
  "language_info": {
   "codemirror_mode": {
    "name": "ipython",
    "version": 3
   },
   "file_extension": ".py",
   "mimetype": "text/x-python",
   "name": "python",
   "nbconvert_exporter": "python",
   "pygments_lexer": "ipython3",
   "version": "3.7.4"
  }
 },
 "nbformat": 4,
 "nbformat_minor": 2
}
